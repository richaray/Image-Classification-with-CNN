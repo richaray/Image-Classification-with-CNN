{
  "cells": [
    {
      "cell_type": "markdown",
      "metadata": {
        "id": "view-in-github",
        "colab_type": "text"
      },
      "source": [
        "<a href=\"https://colab.research.google.com/github/richaray/Image-Classification-with-CNN/blob/main/FlowerImageClassificationCNNipynb.ipynb\" target=\"_parent\"><img src=\"https://colab.research.google.com/assets/colab-badge.svg\" alt=\"Open In Colab\"/></a>"
      ]
    },
    {
      "cell_type": "code",
      "execution_count": 1,
      "metadata": {
        "colab": {
          "base_uri": "https://localhost:8080/"
        },
        "collapsed": true,
        "id": "tAEKO0utOiui",
        "outputId": "ec82e9e9-77cc-483e-aabb-016c009c3923"
      },
      "outputs": [
        {
          "output_type": "stream",
          "name": "stdout",
          "text": [
            "Requirement already satisfied: tensorflow==2.15.0 in /usr/local/lib/python3.11/dist-packages (2.15.0)\n",
            "Requirement already satisfied: tensorflow-hub in /usr/local/lib/python3.11/dist-packages (0.16.1)\n",
            "Requirement already satisfied: keras==2.15.0 in /usr/local/lib/python3.11/dist-packages (2.15.0)\n",
            "Requirement already satisfied: absl-py>=1.0.0 in /usr/local/lib/python3.11/dist-packages (from tensorflow==2.15.0) (1.4.0)\n",
            "Requirement already satisfied: astunparse>=1.6.0 in /usr/local/lib/python3.11/dist-packages (from tensorflow==2.15.0) (1.6.3)\n",
            "Requirement already satisfied: flatbuffers>=23.5.26 in /usr/local/lib/python3.11/dist-packages (from tensorflow==2.15.0) (25.2.10)\n",
            "Requirement already satisfied: gast!=0.5.0,!=0.5.1,!=0.5.2,>=0.2.1 in /usr/local/lib/python3.11/dist-packages (from tensorflow==2.15.0) (0.6.0)\n",
            "Requirement already satisfied: google-pasta>=0.1.1 in /usr/local/lib/python3.11/dist-packages (from tensorflow==2.15.0) (0.2.0)\n",
            "Requirement already satisfied: h5py>=2.9.0 in /usr/local/lib/python3.11/dist-packages (from tensorflow==2.15.0) (3.13.0)\n",
            "Requirement already satisfied: libclang>=13.0.0 in /usr/local/lib/python3.11/dist-packages (from tensorflow==2.15.0) (18.1.1)\n",
            "Requirement already satisfied: ml-dtypes~=0.2.0 in /usr/local/lib/python3.11/dist-packages (from tensorflow==2.15.0) (0.2.0)\n",
            "Requirement already satisfied: numpy<2.0.0,>=1.23.5 in /usr/local/lib/python3.11/dist-packages (from tensorflow==2.15.0) (1.26.4)\n",
            "Requirement already satisfied: opt-einsum>=2.3.2 in /usr/local/lib/python3.11/dist-packages (from tensorflow==2.15.0) (3.4.0)\n",
            "Requirement already satisfied: packaging in /usr/local/lib/python3.11/dist-packages (from tensorflow==2.15.0) (24.2)\n",
            "Requirement already satisfied: protobuf!=4.21.0,!=4.21.1,!=4.21.2,!=4.21.3,!=4.21.4,!=4.21.5,<5.0.0dev,>=3.20.3 in /usr/local/lib/python3.11/dist-packages (from tensorflow==2.15.0) (4.25.8)\n",
            "Requirement already satisfied: setuptools in /usr/local/lib/python3.11/dist-packages (from tensorflow==2.15.0) (75.2.0)\n",
            "Requirement already satisfied: six>=1.12.0 in /usr/local/lib/python3.11/dist-packages (from tensorflow==2.15.0) (1.17.0)\n",
            "Requirement already satisfied: termcolor>=1.1.0 in /usr/local/lib/python3.11/dist-packages (from tensorflow==2.15.0) (3.1.0)\n",
            "Requirement already satisfied: typing-extensions>=3.6.6 in /usr/local/lib/python3.11/dist-packages (from tensorflow==2.15.0) (4.14.0)\n",
            "Requirement already satisfied: wrapt<1.15,>=1.11.0 in /usr/local/lib/python3.11/dist-packages (from tensorflow==2.15.0) (1.14.1)\n",
            "Requirement already satisfied: tensorflow-io-gcs-filesystem>=0.23.1 in /usr/local/lib/python3.11/dist-packages (from tensorflow==2.15.0) (0.37.1)\n",
            "Requirement already satisfied: grpcio<2.0,>=1.24.3 in /usr/local/lib/python3.11/dist-packages (from tensorflow==2.15.0) (1.72.1)\n",
            "Requirement already satisfied: tensorboard<2.16,>=2.15 in /usr/local/lib/python3.11/dist-packages (from tensorflow==2.15.0) (2.15.2)\n",
            "Requirement already satisfied: tensorflow-estimator<2.16,>=2.15.0 in /usr/local/lib/python3.11/dist-packages (from tensorflow==2.15.0) (2.15.0)\n",
            "Requirement already satisfied: tf-keras>=2.14.1 in /usr/local/lib/python3.11/dist-packages (from tensorflow-hub) (2.15.1)\n",
            "Requirement already satisfied: wheel<1.0,>=0.23.0 in /usr/local/lib/python3.11/dist-packages (from astunparse>=1.6.0->tensorflow==2.15.0) (0.45.1)\n",
            "Requirement already satisfied: google-auth<3,>=1.6.3 in /usr/local/lib/python3.11/dist-packages (from tensorboard<2.16,>=2.15->tensorflow==2.15.0) (2.38.0)\n",
            "Requirement already satisfied: google-auth-oauthlib<2,>=0.5 in /usr/local/lib/python3.11/dist-packages (from tensorboard<2.16,>=2.15->tensorflow==2.15.0) (1.2.2)\n",
            "Requirement already satisfied: markdown>=2.6.8 in /usr/local/lib/python3.11/dist-packages (from tensorboard<2.16,>=2.15->tensorflow==2.15.0) (3.8)\n",
            "Requirement already satisfied: requests<3,>=2.21.0 in /usr/local/lib/python3.11/dist-packages (from tensorboard<2.16,>=2.15->tensorflow==2.15.0) (2.32.3)\n",
            "Requirement already satisfied: tensorboard-data-server<0.8.0,>=0.7.0 in /usr/local/lib/python3.11/dist-packages (from tensorboard<2.16,>=2.15->tensorflow==2.15.0) (0.7.2)\n",
            "Requirement already satisfied: werkzeug>=1.0.1 in /usr/local/lib/python3.11/dist-packages (from tensorboard<2.16,>=2.15->tensorflow==2.15.0) (3.1.3)\n",
            "Requirement already satisfied: cachetools<6.0,>=2.0.0 in /usr/local/lib/python3.11/dist-packages (from google-auth<3,>=1.6.3->tensorboard<2.16,>=2.15->tensorflow==2.15.0) (5.5.2)\n",
            "Requirement already satisfied: pyasn1-modules>=0.2.1 in /usr/local/lib/python3.11/dist-packages (from google-auth<3,>=1.6.3->tensorboard<2.16,>=2.15->tensorflow==2.15.0) (0.4.2)\n",
            "Requirement already satisfied: rsa<5,>=3.1.4 in /usr/local/lib/python3.11/dist-packages (from google-auth<3,>=1.6.3->tensorboard<2.16,>=2.15->tensorflow==2.15.0) (4.9.1)\n",
            "Requirement already satisfied: requests-oauthlib>=0.7.0 in /usr/local/lib/python3.11/dist-packages (from google-auth-oauthlib<2,>=0.5->tensorboard<2.16,>=2.15->tensorflow==2.15.0) (2.0.0)\n",
            "Requirement already satisfied: charset-normalizer<4,>=2 in /usr/local/lib/python3.11/dist-packages (from requests<3,>=2.21.0->tensorboard<2.16,>=2.15->tensorflow==2.15.0) (3.4.2)\n",
            "Requirement already satisfied: idna<4,>=2.5 in /usr/local/lib/python3.11/dist-packages (from requests<3,>=2.21.0->tensorboard<2.16,>=2.15->tensorflow==2.15.0) (3.10)\n",
            "Requirement already satisfied: urllib3<3,>=1.21.1 in /usr/local/lib/python3.11/dist-packages (from requests<3,>=2.21.0->tensorboard<2.16,>=2.15->tensorflow==2.15.0) (2.4.0)\n",
            "Requirement already satisfied: certifi>=2017.4.17 in /usr/local/lib/python3.11/dist-packages (from requests<3,>=2.21.0->tensorboard<2.16,>=2.15->tensorflow==2.15.0) (2025.4.26)\n",
            "Requirement already satisfied: MarkupSafe>=2.1.1 in /usr/local/lib/python3.11/dist-packages (from werkzeug>=1.0.1->tensorboard<2.16,>=2.15->tensorflow==2.15.0) (3.0.2)\n",
            "Requirement already satisfied: pyasn1<0.7.0,>=0.6.1 in /usr/local/lib/python3.11/dist-packages (from pyasn1-modules>=0.2.1->google-auth<3,>=1.6.3->tensorboard<2.16,>=2.15->tensorflow==2.15.0) (0.6.1)\n",
            "Requirement already satisfied: oauthlib>=3.0.0 in /usr/local/lib/python3.11/dist-packages (from requests-oauthlib>=0.7.0->google-auth-oauthlib<2,>=0.5->tensorboard<2.16,>=2.15->tensorflow==2.15.0) (3.2.2)\n"
          ]
        }
      ],
      "source": [
        "! pip install tensorflow==2.15.0 tensorflow-hub keras==2.15.0"
      ]
    },
    {
      "cell_type": "code",
      "execution_count": 2,
      "metadata": {
        "id": "CtFJIYnDtZ1J"
      },
      "outputs": [],
      "source": [
        "import matplotlib.pyplot as plt\n",
        "import numpy as np\n",
        "import cv2\n",
        "import os\n",
        "import PIL\n",
        "import tensorflow as tf\n",
        "import pathlib\n",
        "import tensorflow_hub as hub\n",
        "import tf_keras\n",
        "from tensorflow import keras\n",
        "from keras.applications.imagenet_utils import preprocess_input\n",
        "from keras.preprocessing import image\n",
        "from numpy import expand_dims\n",
        "from keras.preprocessing.image import load_img\n",
        "from keras.preprocessing.image import img_to_array\n",
        "from tensorflow.keras import layers # type: ignore\n",
        "from tensorflow.keras.models import Sequential # type: ignore\n"
      ]
    },
    {
      "cell_type": "code",
      "execution_count": 3,
      "metadata": {
        "id": "wd65tLu-trvY",
        "colab": {
          "base_uri": "https://localhost:8080/"
        },
        "outputId": "742e4498-89e1-4854-f33c-c4b2d1a3c964"
      },
      "outputs": [
        {
          "output_type": "stream",
          "name": "stdout",
          "text": [
            "Downloading data from https://storage.googleapis.com/download.tensorflow.org/example_images/flower_photos.tgz\n",
            "228813984/228813984 [==============================] - 2s 0us/step\n"
          ]
        }
      ],
      "source": [
        "dataset_url = \"https://storage.googleapis.com/download.tensorflow.org/example_images/flower_photos.tgz\"\n",
        "data_dir = tf.keras.utils.get_file('flower_photos', origin=dataset_url,  cache_dir='.', untar=True)"
      ]
    },
    {
      "cell_type": "code",
      "execution_count": 4,
      "metadata": {
        "colab": {
          "base_uri": "https://localhost:8080/",
          "height": 36
        },
        "id": "jfvgkfU0t2yA",
        "outputId": "8aca2394-3ccf-4433-a576-acee71ceb52f"
      },
      "outputs": [
        {
          "output_type": "execute_result",
          "data": {
            "text/plain": [
              "'./datasets/flower_photos'"
            ],
            "application/vnd.google.colaboratory.intrinsic+json": {
              "type": "string"
            }
          },
          "metadata": {},
          "execution_count": 4
        }
      ],
      "source": [
        "data_dir"
      ]
    },
    {
      "cell_type": "code",
      "execution_count": 5,
      "metadata": {
        "colab": {
          "base_uri": "https://localhost:8080/"
        },
        "id": "fluaXknKujg3",
        "outputId": "a6d74110-30fe-4c43-eae0-667d66512415"
      },
      "outputs": [
        {
          "output_type": "execute_result",
          "data": {
            "text/plain": [
              "PosixPath('datasets/flower_photos')"
            ]
          },
          "metadata": {},
          "execution_count": 5
        }
      ],
      "source": [
        "data_dir = pathlib.Path(data_dir)\n",
        "data_dir"
      ]
    },
    {
      "cell_type": "code",
      "execution_count": 6,
      "metadata": {
        "colab": {
          "base_uri": "https://localhost:8080/"
        },
        "id": "2C4SbPvKulxR",
        "outputId": "2f810cc7-49d0-48e4-e795-f82a9ffbcd0d"
      },
      "outputs": [
        {
          "output_type": "stream",
          "name": "stdout",
          "text": [
            "3670\n"
          ]
        }
      ],
      "source": [
        "image_count = len(list(data_dir.glob('*/*.jpg')))\n",
        "print(image_count)"
      ]
    },
    {
      "cell_type": "markdown",
      "metadata": {
        "id": "NI2vYd1kur-N"
      },
      "source": [
        "## Using **OpenCV** to read flower images from disk into numpy array\n",
        "Images are also being resized and preprocessed"
      ]
    },
    {
      "cell_type": "code",
      "execution_count": 7,
      "metadata": {
        "id": "Ibcloultu1FH"
      },
      "outputs": [],
      "source": [
        "\n",
        "flowers_images_dict = {\n",
        "    'roses': list(data_dir.glob('roses/*')),\n",
        "    'daisy': list(data_dir.glob('daisy/*')),\n",
        "    'dandelion': list(data_dir.glob('dandelion/*')),\n",
        "    'sunflowers': list(data_dir.glob('sunflowers/*')),\n",
        "    'tulips': list(data_dir.glob('tulips/*')),\n",
        "\n",
        "}"
      ]
    },
    {
      "cell_type": "code",
      "execution_count": 8,
      "metadata": {
        "id": "gqrjIWJku5nq"
      },
      "outputs": [],
      "source": [
        "flowers_labels_dict = {\n",
        "    'roses': 0,\n",
        "    'daisy': 1,\n",
        "    'dandelion': 2,\n",
        "    'sunflowers': 3,\n",
        "    'tulips': 4,\n",
        "}"
      ]
    },
    {
      "cell_type": "code",
      "execution_count": 9,
      "metadata": {
        "id": "mspVOOt3vA1-"
      },
      "outputs": [],
      "source": [
        "img = cv2.imread(str(flowers_images_dict['roses'][0]))"
      ]
    },
    {
      "cell_type": "code",
      "execution_count": 10,
      "metadata": {
        "id": "lBhVYQiwvDiS"
      },
      "outputs": [],
      "source": [
        "X, y = [], []\n",
        "\n",
        "for flower_name, images in flowers_images_dict.items():\n",
        "  for image in images:\n",
        "    img = cv2.imread(str(image))\n",
        "    # resized_img = cv2.resize(img,(224,224))\n",
        "    x = cv2.resize(img,(224,224))\n",
        "    #x = np.expand_dims(x, axis=0)\n",
        "    x = preprocess_input(x)\n",
        "    X.append(x)\n",
        "    y.append(flowers_labels_dict[flower_name])"
      ]
    },
    {
      "cell_type": "code",
      "execution_count": 11,
      "metadata": {
        "colab": {
          "base_uri": "https://localhost:8080/"
        },
        "id": "XJf5KostvFfD",
        "outputId": "263bd997-f579-4c3e-f764-b57bca417125"
      },
      "outputs": [
        {
          "output_type": "execute_result",
          "data": {
            "text/plain": [
              "(3670, 224, 224, 3)"
            ]
          },
          "metadata": {},
          "execution_count": 11
        }
      ],
      "source": [
        "X = np.array(X)\n",
        "y = np.array(y)\n",
        "X.shape"
      ]
    },
    {
      "cell_type": "markdown",
      "metadata": {
        "id": "9kfa8v4AvJ45"
      },
      "source": [
        "\n",
        "\n",
        "**TRAIN TEST SPLIT**\n"
      ]
    },
    {
      "cell_type": "code",
      "execution_count": 12,
      "metadata": {
        "id": "cExU-P7tvMmd"
      },
      "outputs": [],
      "source": [
        "from sklearn.model_selection import train_test_split\n",
        "X_train, X_test, y_train, y_test = train_test_split(X, y, random_state=0)"
      ]
    },
    {
      "cell_type": "markdown",
      "metadata": {
        "id": "nw-KdJRF8D-x"
      },
      "source": [
        "Preprocessing : Scale Images\n"
      ]
    },
    {
      "cell_type": "code",
      "execution_count": 13,
      "metadata": {
        "id": "b0R_XYGV8G4I"
      },
      "outputs": [],
      "source": [
        "X_train_scaled = X_train / 255\n",
        "X_test_scaled = X_test / 255"
      ]
    },
    {
      "cell_type": "markdown",
      "source": [
        "**Data Augmentation**"
      ],
      "metadata": {
        "id": "y5KVuX6E2kLt"
      }
    },
    {
      "cell_type": "code",
      "execution_count": 14,
      "metadata": {
        "id": "57xtA403k06g"
      },
      "outputs": [],
      "source": [
        "data_augmentation = keras.Sequential([\n",
        "  layers.RandomFlip(\"horizontal_and_vertical\"),\n",
        "  layers.RandomRotation(0.4),\n",
        "])"
      ]
    },
    {
      "cell_type": "markdown",
      "metadata": {
        "id": "iB7R-AHHT60H"
      },
      "source": [
        " **Transfer Learning** using a pre-trained model from google's Tensorflow Hub\n"
      ]
    },
    {
      "cell_type": "code",
      "execution_count": 15,
      "metadata": {
        "id": "or8IYa6AAYJx"
      },
      "outputs": [],
      "source": [
        "feature_extractor_model = \"https://tfhub.dev/google/tf2-preview/mobilenet_v2/feature_vector/4\"\n",
        "\n",
        "pretrained_model_without_top_layer = hub.KerasLayer(\n",
        "    feature_extractor_model, input_shape=(224, 224, 3), trainable=False)"
      ]
    },
    {
      "cell_type": "code",
      "execution_count": 16,
      "metadata": {
        "id": "aiV4S7fnBOcp"
      },
      "outputs": [],
      "source": [
        "num_of_flowers = 5\n",
        "\n",
        "model = tf.keras.Sequential([\n",
        "  data_augmentation,\n",
        "  pretrained_model_without_top_layer,\n",
        "  tf.keras.layers.Dense(num_of_flowers)\n",
        "])"
      ]
    },
    {
      "cell_type": "markdown",
      "source": [
        "Fine Tuning Epochs"
      ],
      "metadata": {
        "id": "qcZQhJUN2y4o"
      }
    },
    {
      "cell_type": "code",
      "execution_count": 17,
      "metadata": {
        "colab": {
          "base_uri": "https://localhost:8080/"
        },
        "id": "H788t2DLfACr",
        "outputId": "48fe1a0c-df94-4222-cbf4-816bfdcea7f3"
      },
      "outputs": [
        {
          "output_type": "stream",
          "name": "stdout",
          "text": [
            "With total number of epochs:0\n",
            "With total number of epochs:1\n",
            "32/32 [==============================] - 64s 2s/step - loss: 1.2189 - acc: 0.4940\n",
            "With total number of epochs:2\n",
            "Epoch 1/2\n",
            "32/32 [==============================] - 48s 1s/step - loss: 0.7216 - acc: 0.7400\n",
            "Epoch 2/2\n",
            "32/32 [==============================] - 44s 1s/step - loss: 0.5436 - acc: 0.8090\n",
            "With total number of epochs:3\n",
            "Epoch 1/3\n",
            "32/32 [==============================] - 43s 1s/step - loss: 0.4985 - acc: 0.8270\n",
            "Epoch 2/3\n",
            "32/32 [==============================] - 38s 1s/step - loss: 0.4197 - acc: 0.8490\n",
            "Epoch 3/3\n",
            "32/32 [==============================] - 38s 1s/step - loss: 0.3815 - acc: 0.8620\n",
            "With total number of epochs:4\n",
            "Epoch 1/4\n",
            "32/32 [==============================] - 41s 1s/step - loss: 0.3775 - acc: 0.8610\n",
            "Epoch 2/4\n",
            "32/32 [==============================] - 40s 1s/step - loss: 0.3308 - acc: 0.8840\n",
            "Epoch 3/4\n",
            "32/32 [==============================] - 38s 1s/step - loss: 0.3072 - acc: 0.9000\n",
            "Epoch 4/4\n",
            "32/32 [==============================] - 38s 1s/step - loss: 0.2953 - acc: 0.8940\n",
            "With total number of epochs:5\n",
            "Epoch 1/5\n",
            "32/32 [==============================] - 40s 1s/step - loss: 0.2948 - acc: 0.9030\n",
            "Epoch 2/5\n",
            "32/32 [==============================] - 38s 1s/step - loss: 0.2770 - acc: 0.9070\n",
            "Epoch 3/5\n",
            "32/32 [==============================] - 41s 1s/step - loss: 0.2427 - acc: 0.9130\n",
            "Epoch 4/5\n",
            "32/32 [==============================] - 42s 1s/step - loss: 0.2570 - acc: 0.9120\n",
            "Epoch 5/5\n",
            "32/32 [==============================] - 39s 1s/step - loss: 0.2311 - acc: 0.9180\n"
          ]
        }
      ],
      "source": [
        "\n",
        "for i in range(6) :\n",
        "  print(\"With total number of epochs:\"+str(i))\n",
        "  model.compile(\n",
        "  optimizer=\"adam\",\n",
        "  loss=tf.keras.losses.SparseCategoricalCrossentropy(from_logits=True),\n",
        "  metrics=['acc'])\n",
        "\n",
        "  small_train_dataset = tf.data.Dataset.from_tensor_slices(\n",
        "    (X_train_scaled[:1000], y_train[:1000])\n",
        "  ).batch(32)\n",
        "\n",
        "  model.fit(small_train_dataset, epochs=i)"
      ]
    },
    {
      "cell_type": "code",
      "execution_count": 18,
      "metadata": {
        "colab": {
          "base_uri": "https://localhost:8080/"
        },
        "id": "VMqXu1_Oncip",
        "outputId": "865f8ff1-c106-4bdd-f415-ec4e34d86ce0"
      },
      "outputs": [
        {
          "output_type": "stream",
          "name": "stdout",
          "text": [
            "Model: \"sequential_1\"\n",
            "_________________________________________________________________\n",
            " Layer (type)                Output Shape              Param #   \n",
            "=================================================================\n",
            " sequential (Sequential)     (None, 224, 224, 3)       0         \n",
            "                                                                 \n",
            " keras_layer (KerasLayer)    (None, 1280)              2257984   \n",
            "                                                                 \n",
            " dense (Dense)               (None, 5)                 6405      \n",
            "                                                                 \n",
            "=================================================================\n",
            "Total params: 2264389 (8.64 MB)\n",
            "Trainable params: 6405 (25.02 KB)\n",
            "Non-trainable params: 2257984 (8.61 MB)\n",
            "_________________________________________________________________\n"
          ]
        }
      ],
      "source": [
        "model.summary()"
      ]
    },
    {
      "cell_type": "code",
      "execution_count": 19,
      "metadata": {
        "colab": {
          "base_uri": "https://localhost:8080/"
        },
        "id": "AmAXynz4B72-",
        "outputId": "544cbfa4-1f08-41cf-d93d-42bcb834d13f"
      },
      "outputs": [
        {
          "output_type": "stream",
          "name": "stdout",
          "text": [
            "Epoch 1/5\n",
            "32/32 [==============================] - 40s 1s/step - loss: 0.2420 - acc: 0.9190\n",
            "Epoch 2/5\n",
            "32/32 [==============================] - 37s 1s/step - loss: 0.2298 - acc: 0.9200\n",
            "Epoch 3/5\n",
            "32/32 [==============================] - 37s 1s/step - loss: 0.2063 - acc: 0.9320\n",
            "Epoch 4/5\n",
            "32/32 [==============================] - 41s 1s/step - loss: 0.1979 - acc: 0.9320\n",
            "Epoch 5/5\n",
            "32/32 [==============================] - 40s 1s/step - loss: 0.1891 - acc: 0.9370\n"
          ]
        },
        {
          "output_type": "execute_result",
          "data": {
            "text/plain": [
              "<keras.src.callbacks.History at 0x7d48673f01d0>"
            ]
          },
          "metadata": {},
          "execution_count": 19
        }
      ],
      "source": [
        "model.compile(\n",
        "  optimizer=\"adam\",\n",
        "  loss=tf.keras.losses.SparseCategoricalCrossentropy(from_logits=True),\n",
        "  metrics=['acc'])\n",
        "\n",
        "small_train_dataset = tf.data.Dataset.from_tensor_slices(\n",
        "    (X_train_scaled[:1000], y_train[:1000])\n",
        ").batch(32)\n",
        "model.fit(small_train_dataset, epochs=5)\n",
        "\n",
        "# model.fit(X_train_scaled, y_train, batch_size=16, epochs=5)"
      ]
    },
    {
      "cell_type": "markdown",
      "metadata": {
        "id": "WlsZS536XORM"
      },
      "source": [
        "## **Evaluation Metrics**"
      ]
    },
    {
      "cell_type": "code",
      "execution_count": 20,
      "metadata": {
        "id": "OSxwUENUB-lH"
      },
      "outputs": [],
      "source": [
        "from sklearn.metrics import classification_report, confusion_matrix, accuracy_score\n"
      ]
    },
    {
      "cell_type": "code",
      "execution_count": 21,
      "metadata": {
        "colab": {
          "base_uri": "https://localhost:8080/"
        },
        "id": "TEvkj2aAUXVw",
        "outputId": "c5baf277-33c2-4884-9c93-8fa63d46dcbf"
      },
      "outputs": [
        {
          "output_type": "stream",
          "name": "stdout",
          "text": [
            "29/29 [==============================] - 34s 1s/step\n"
          ]
        }
      ],
      "source": [
        "y_pred = model.predict(X_test_scaled)\n",
        "y_pred_classes = np.argmax(y_pred, axis=1)"
      ]
    },
    {
      "cell_type": "code",
      "execution_count": 22,
      "metadata": {
        "id": "nLniC9kEwTQ7"
      },
      "outputs": [],
      "source": [
        "def eval_metrics(y_test, y_pred_classes, flowers_labels_dict):\n",
        "  conf_matrix = confusion_matrix(y_test, y_pred_classes)\n",
        "  print(\"Confusion Matrix:\\n\", conf_matrix)\n",
        "\n",
        "  class_report = classification_report(y_test, y_pred_classes, target_names=flowers_labels_dict)\n",
        "  print(\"\\nClassification Report:\\n\", class_report)\n",
        "\n",
        "  accuracy = accuracy_score(y_test, y_pred_classes)\n",
        "  print(\"\\nAccuracy:\", accuracy)"
      ]
    },
    {
      "cell_type": "code",
      "execution_count": 23,
      "metadata": {
        "colab": {
          "base_uri": "https://localhost:8080/"
        },
        "id": "bxc0ncct9vy7",
        "outputId": "f9c7675c-dee8-4ee9-c8cc-da3456a85971"
      },
      "outputs": [
        {
          "output_type": "stream",
          "name": "stdout",
          "text": [
            "Confusion Matrix:\n",
            " [[149   1   1   2  23]\n",
            " [  6 126  12   3   7]\n",
            " [  2   2 209  10   3]\n",
            " [  1   4  10 120  15]\n",
            " [ 23   3   2   2 182]]\n",
            "\n",
            "Classification Report:\n",
            "               precision    recall  f1-score   support\n",
            "\n",
            "       roses       0.82      0.85      0.83       176\n",
            "       daisy       0.93      0.82      0.87       154\n",
            "   dandelion       0.89      0.92      0.91       226\n",
            "  sunflowers       0.88      0.80      0.84       150\n",
            "      tulips       0.79      0.86      0.82       212\n",
            "\n",
            "    accuracy                           0.86       918\n",
            "   macro avg       0.86      0.85      0.85       918\n",
            "weighted avg       0.86      0.86      0.86       918\n",
            "\n",
            "\n",
            "Accuracy: 0.8562091503267973\n"
          ]
        }
      ],
      "source": [
        "eval_metrics(y_test, y_pred_classes, flowers_labels_dict)"
      ]
    },
    {
      "cell_type": "markdown",
      "source": [
        "# **Making Prediction**"
      ],
      "metadata": {
        "id": "HIa3Ivcb2E3A"
      }
    },
    {
      "cell_type": "code",
      "execution_count": 24,
      "metadata": {
        "id": "gzEtqa6Eqz6X"
      },
      "outputs": [],
      "source": [
        "def preprocessing(img):\n",
        "  # plt.imshow(img)\n",
        "  # resized_img = cv2.resize(img,(224,224))\n",
        "  # resized_img_scaled = resized_img / 255\n",
        "  # img = tf.keras.utils.load_img(img_path, target_size=(224, 224))\n",
        "  #x = tf.keras.utils.img_to_array(img)\n",
        "  x = cv2.resize(img,(224,224))\n",
        "  x = np.expand_dims(x, axis=0)\n",
        "  x = preprocess_input(x)\n",
        "\n",
        "  # Displaying the preprocessed and Original Image\n",
        "  plt.imshow(x[0, :, :, :3])\n",
        "  plt.show()\n",
        "  # PIL.Image.open(img)\n",
        "  return x"
      ]
    },
    {
      "cell_type": "code",
      "execution_count": 25,
      "metadata": {
        "id": "bnKVUlAGpCvU"
      },
      "outputs": [],
      "source": [
        "def classify(image):\n",
        "  #read image\n",
        "  img = cv2.imread(image)\n",
        "  #pre-process image\n",
        "  processed_img = preprocessing(img)\n",
        "  #predicting by model\n",
        "  result = model.predict(processed_img)\n",
        "  return result\n"
      ]
    },
    {
      "cell_type": "code",
      "execution_count": 27,
      "metadata": {
        "colab": {
          "base_uri": "https://localhost:8080/",
          "height": 506
        },
        "id": "1Im9jV3yp2yv",
        "outputId": "e755556f-4ee8-4eee-bc4a-7b9091ad324a"
      },
      "outputs": [
        {
          "output_type": "stream",
          "name": "stderr",
          "text": [
            "WARNING:matplotlib.image:Clipping input data to the valid range for imshow with RGB data ([0..1] for floats or [0..255] for integers). Got range [-116.779..151.061].\n"
          ]
        },
        {
          "output_type": "display_data",
          "data": {
            "text/plain": [
              "<Figure size 640x480 with 1 Axes>"
            ],
            "image/png": "[encoded data removed]"
          },
          "metadata": {}
        },
        {
          "output_type": "stream",
          "name": "stdout",
          "text": [
            "1/1 [==============================] - 0s 94ms/step\n",
            "rose\n"
          ]
        }
      ],
      "source": [
        "flower_name = classify(\"/content/rose.jpg\")\n",
        "flower_name_classes = np.argmax(flower_name, axis=1)\n",
        "if (flower_name_classes==0):\n",
        "  print(\"rose\")\n",
        "if (flower_name_classes==1):\n",
        "  print(\"daisy\")\n",
        "if (flower_name_classes==2):\n",
        "  print(\"dandelion\")\n",
        "if (flower_name_classes==3):\n",
        "  print(\"sunflower\")\n",
        "if (flower_name_classes==4):\n",
        "  print(\"tulip\")"
      ]
    },
    {
      "cell_type": "code",
      "execution_count": 28,
      "metadata": {
        "id": "dwGA547sp-6o",
        "colab": {
          "base_uri": "https://localhost:8080/"
        },
        "outputId": "07a3b7a2-c2cd-4079-9142-c8dc33cda2e1"
      },
      "outputs": [
        {
          "output_type": "stream",
          "name": "stderr",
          "text": [
            "/usr/local/lib/python3.11/dist-packages/keras/src/engine/training.py:3103: UserWarning: You are saving your model as an HDF5 file via `model.save()`. This file format is considered legacy. We recommend using instead the native Keras format, e.g. `model.save('my_model.keras')`.\n",
            "  saving_api.save_model(\n"
          ]
        }
      ],
      "source": [
        "model.save(\"flower_classifier.h5\")\n"
      ]
    },
    {
      "cell_type": "code",
      "source": [
        "from google.colab import files\n",
        "files.download(\"flower_classifier.h5\")\n"
      ],
      "metadata": {
        "id": "3NyySmMjYJ2D",
        "outputId": "2ce8516d-61be-479c-f750-a03b7f01e102",
        "colab": {
          "base_uri": "https://localhost:8080/",
          "height": 17
        }
      },
      "execution_count": 29,
      "outputs": [
        {
          "output_type": "display_data",
          "data": {
            "text/plain": [
              "<IPython.core.display.Javascript object>"
            ],
            "application/javascript": [
              "\n",
              "    async function download(id, filename, size) {\n",
              "      if (!google.colab.kernel.accessAllowed) {\n",
              "        return;\n",
              "      }\n",
              "      const div = document.createElement('div');\n",
              "      const label = document.createElement('label');\n",
              "      label.textContent = `Downloading \"${filename}\": `;\n",
              "      div.appendChild(label);\n",
              "      const progress = document.createElement('progress');\n",
              "      progress.max = size;\n",
              "      div.appendChild(progress);\n",
              "      document.body.appendChild(div);\n",
              "\n",
              "      const buffers = [];\n",
              "      let downloaded = 0;\n",
              "\n",
              "      const channel = await google.colab.kernel.comms.open(id);\n",
              "      // Send a message to notify the kernel that we're ready.\n",
              "      channel.send({})\n",
              "\n",
              "      for await (const message of channel.messages) {\n",
              "        // Send a message to notify the kernel that we're ready.\n",
              "        channel.send({})\n",
              "        if (message.buffers) {\n",
              "          for (const buffer of message.buffers) {\n",
              "            buffers.push(buffer);\n",
              "            downloaded += buffer.byteLength;\n",
              "            progress.value = downloaded;\n",
              "          }\n",
              "        }\n",
              "      }\n",
              "      const blob = new Blob(buffers, {type: 'application/binary'});\n",
              "      const a = document.createElement('a');\n",
              "      a.href = window.URL.createObjectURL(blob);\n",
              "      a.download = filename;\n",
              "      div.appendChild(a);\n",
              "      a.click();\n",
              "      div.remove();\n",
              "    }\n",
              "  "
            ]
          },
          "metadata": {}
        },
        {
          "output_type": "display_data",
          "data": {
            "text/plain": [
              "<IPython.core.display.Javascript object>"
            ],
            "application/javascript": [
              "download(\"download_8f3579da-5bb6-48ad-9abf-b876e0ea9068\", \"flower_classifier.h5\", 9365008)"
            ]
          },
          "metadata": {}
        }
      ]
    },
    {
      "cell_type": "code",
      "source": [],
      "metadata": {
        "id": "2TXRD0SqYO2l"
      },
      "execution_count": null,
      "outputs": []
    }
  ],
  "metadata": {
    "colab": {
      "provenance": [],
      "authorship_tag": "ABX9TyO6Xz2DZqHcg0IjLWF0ymKt",
      "include_colab_link": true
    },
    "kernelspec": {
      "display_name": "Python 3",
      "name": "python3"
    },
    "language_info": {
      "name": "python"
    }
  },
  "nbformat": 4,
  "nbformat_minor": 0
}